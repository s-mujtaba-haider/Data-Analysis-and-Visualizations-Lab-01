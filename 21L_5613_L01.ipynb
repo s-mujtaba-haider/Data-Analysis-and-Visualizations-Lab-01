{
  "cells": [
    {
      "cell_type": "code",
      "execution_count": null,
      "id": "899c9770",
      "metadata": {
        "id": "899c9770",
        "outputId": "e6cd7a52-f360-4193-eb7b-ddb276cfa806",
        "colab": {
          "base_uri": "https://localhost:8080/"
        }
      },
      "outputs": [
        {
          "output_type": "stream",
          "name": "stdout",
          "text": [
            "Enter String :asdSa\n",
            "Enter String : aSdsa\n"
          ]
        }
      ],
      "source": [
        "#Q1\n",
        "x = input(\"Enter String :\")\n",
        "def Reverse(x):\n",
        "    z = \"\"\n",
        "    for i in x:\n",
        "        z = i + z\n",
        "    return z\n",
        "print(\"Enter String :\",Reverse(x))\n",
        "x = x.replace(\" \",\"\")\n",
        "x = x.replace(\",\",\"\")\n",
        "x = x.replace(\".\",\"\")\n",
        "x = x.replace(\"?\",\"\")\n",
        "y = Reverse(x)\n"
      ]
    },
    {
      "cell_type": "code",
      "execution_count": null,
      "id": "7970401e",
      "metadata": {
        "id": "7970401e",
        "outputId": "f060e035-c24e-4e9b-dba9-a136aac62091",
        "colab": {
          "base_uri": "https://localhost:8080/"
        }
      },
      "outputs": [
        {
          "output_type": "stream",
          "name": "stdout",
          "text": [
            "Palindrome\n"
          ]
        }
      ],
      "source": [
        "#Q2\n",
        "x = x.lower()\n",
        "y = y.lower()\n",
        "if y==x:\n",
        "    print(\"Palindrome\")\n",
        "else:\n",
        "    print(\"Not a Palindrome\")\n"
      ]
    },
    {
      "cell_type": "code",
      "execution_count": null,
      "id": "b268d79c",
      "metadata": {
        "id": "b268d79c",
        "outputId": "45dd8e3b-5fb2-40b5-891a-318df949fb52",
        "colab": {
          "base_uri": "https://localhost:8080/"
        }
      },
      "outputs": [
        {
          "output_type": "stream",
          "name": "stdout",
          "text": [
            "Enter Number : 8\n",
            "Number : 8.0\n",
            "Square Root : 2.8284271247461903\n",
            "Square Root : 2\n"
          ]
        }
      ],
      "source": [
        "#Q3\n",
        "a = float(input(\"Enter Number : \"))\n",
        "if a<0:\n",
        "    a*=-1\n",
        "    print (\"Number :\",a)\n",
        "    b = a**0.5\n",
        "    print (\"Square Root :\",b)\n",
        "    b = int(a**0.5)\n",
        "    print (\"Square Root :\",b)\n",
        "else:\n",
        "   print (\"Number :\",a)\n",
        "   b = a**0.5\n",
        "   print (\"Square Root :\",b)\n",
        "   b = int(a**0.5)\n",
        "   print (\"Square Root :\",b)"
      ]
    },
    {
      "cell_type": "code",
      "execution_count": null,
      "id": "0672170f",
      "metadata": {
        "id": "0672170f"
      },
      "outputs": [],
      "source": []
    },
    {
      "cell_type": "code",
      "execution_count": null,
      "id": "602fa814",
      "metadata": {
        "id": "602fa814"
      },
      "outputs": [],
      "source": []
    },
    {
      "cell_type": "code",
      "execution_count": null,
      "id": "7106703a",
      "metadata": {
        "id": "7106703a"
      },
      "outputs": [],
      "source": []
    },
    {
      "cell_type": "code",
      "execution_count": null,
      "id": "93925969",
      "metadata": {
        "id": "93925969"
      },
      "outputs": [],
      "source": []
    }
  ],
  "metadata": {
    "kernelspec": {
      "display_name": "Python 3",
      "language": "python",
      "name": "python3"
    },
    "language_info": {
      "codemirror_mode": {
        "name": "ipython",
        "version": 3
      },
      "file_extension": ".py",
      "mimetype": "text/x-python",
      "name": "python",
      "nbconvert_exporter": "python",
      "pygments_lexer": "ipython3",
      "version": "3.8.8"
    },
    "colab": {
      "provenance": []
    }
  },
  "nbformat": 4,
  "nbformat_minor": 5
}